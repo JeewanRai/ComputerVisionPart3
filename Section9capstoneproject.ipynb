{
 "cells": [
  {
   "cell_type": "markdown",
   "metadata": {},
   "source": [
    "# Section 9. CAPSTONE PROJECT\n",
    "## Capstone Part One -Variables and Background function"
   ]
  },
  {
   "cell_type": "code",
   "execution_count": 1,
   "metadata": {},
   "outputs": [],
   "source": [
    "import cv2\n",
    "import numpy as np\n",
    "\n",
    "from sklearn.metrics import pairwise"
   ]
  },
  {
   "cell_type": "code",
   "execution_count": 2,
   "metadata": {},
   "outputs": [],
   "source": [
    "# creat global variables   \n",
    "background = None\n",
    "\n",
    "accumulated_weight = 0.5 # new frame and old frame contributes equally\n",
    "\n",
    "# creat ROI i.e. red bounding box\n",
    "# corners of the rectangle\n",
    "roi_top = 20\n",
    "roi_bottom = 300\n",
    "roi_right = 300\n",
    "roi_left = 600"
   ]
  },
  {
   "cell_type": "code",
   "execution_count": null,
   "metadata": {},
   "outputs": [],
   "source": [
    "# #create function that will find average background value\n",
    "def calc_accum_avg(frame, accumulated_weight):\n",
    "\n",
    "    global background\n",
    "    if background is None:\n",
    "        background = frame.copy().astype(\"float\")\n",
    "        return None\n",
    "    \n",
    "# docstring src (Source Image), image must be 1-channel or 3-channel, 8-bit integer format or 32-bit floating-point format.\n",
    "# dst stands for destination or output image/accumulated image\n",
    "# The output image (dst) is updated continuously with each new image. This means that dst is always a representation of the average of all the images processed so far, adjusted by the weight each image has been given via the alpha parameter.  \n",
    "# The parameter alpha determines how much weight the new image carries in this combination. A higher alpha value gives more importance to the latest image, making the running average more sensitive to recent changes. \n",
    "# Conversely, a lower alpha means that older images influence the running average more strongly, which results in a smoother, less reactive average.\n",
    "\n",
    "    cv2.accumulateWeighted(frame, background, accumulated_weight)\n"
   ]
  },
  {
   "cell_type": "code",
   "execution_count": null,
   "metadata": {},
   "outputs": [],
   "source": [
    "def segment(frame, threshold = 25):\n",
    "    diff = cv2.absdiff(background.astype(\"uint8\"), frame)\n",
    "\n",
    "    ret, thresholded = cv2.threshold(diff, threshold, 255, cv2.THRESH_BINARY)\n",
    "\n",
    "    image, contours, hierarchy = cv2.findContours(thresholded.copy(), cv2.RETR_EXTERNAL, cv2.CHAIN_APPROX_SIMPLE)\n",
    "\n",
    "    if len(contours) == 0:\n",
    "        return None\n",
    "    else:\n",
    "        # Assuming largest external contour in roi is the hand\n",
    "        hand_segment = max(contours, key = cv2.contourArea)\n",
    "        return (thresholded, hand_segment) # tuple packing"
   ]
  }
 ],
 "metadata": {
  "kernelspec": {
   "display_name": "Python 3",
   "language": "python",
   "name": "python3"
  },
  "language_info": {
   "codemirror_mode": {
    "name": "ipython",
    "version": 3
   },
   "file_extension": ".py",
   "mimetype": "text/x-python",
   "name": "python",
   "nbconvert_exporter": "python",
   "pygments_lexer": "ipython3",
   "version": "3.11.4"
  }
 },
 "nbformat": 4,
 "nbformat_minor": 2
}
